{
 "cells": [
  {
   "cell_type": "code",
   "execution_count": 1,
   "metadata": {},
   "outputs": [],
   "source": [
    "import pandas as pd\n",
    "import numpy as np\n",
    "import requests\n",
    "import plotly\n",
    "from plotly.graph_objs import *\n",
    "import networkx as nx\n",
    "import plotly.graph_objs as go\n",
    "import matplotlib.pyplot as plt\n",
    "from matplotlib.pyplot import figure\n",
    "%matplotlib inline\n",
    "# pd.options.display.max_columns = None"
   ]
  },
  {
   "cell_type": "code",
   "execution_count": 2,
   "metadata": {},
   "outputs": [],
   "source": [
    "from Analises import *"
   ]
  },
  {
   "cell_type": "code",
   "execution_count": 3,
   "metadata": {},
   "outputs": [],
   "source": [
    "import seaborn as sns"
   ]
  },
  {
   "cell_type": "markdown",
   "metadata": {},
   "source": [
    "### Import bibliometrics data in python"
   ]
  },
  {
   "cell_type": "code",
   "execution_count": 4,
   "metadata": {},
   "outputs": [],
   "source": [
    "c1 = pd.read_excel('todos.xlsx', sheet_name='Account')\n",
    "columns = pd.read_csv('identificadores.csv')"
   ]
  },
  {
   "cell_type": "code",
   "execution_count": 5,
   "metadata": {},
   "outputs": [],
   "source": [
    "#Pass dataframe and dict\n",
    "cd = cleaningDatabase(c1, columns)\n",
    "\n",
    "#replace strings for lowercase and remove spaces        \n",
    "cd.lowerSpaceValues(['Author Keywords', 'Document Title', 'Authors'])\n",
    "\n",
    "#Get all values in columns that are empty or null\n",
    "# cd.getNullValues()"
   ]
  },
  {
   "cell_type": "code",
   "execution_count": 6,
   "metadata": {},
   "outputs": [
    {
     "name": "stdout",
     "output_type": "stream",
     "text": [
      "Análise Descritiva\n",
      "-------------------\n",
      "JOURNAL OF CLEANER PRODUCTION                     114\n",
      "INTERNATIONAL JOURNAL OF LIFE CYCLE ASSESSMENT     53\n",
      "PLOS ONE                                           35\n",
      "ECOLOGICAL MODELLING                               34\n",
      "SCIENCE OF THE TOTAL ENVIRONMENT                   34\n",
      "Name: Publication Name, dtype: int64\n",
      "-------------------\n",
      "English    1984\n",
      "Russian       2\n",
      "Name: Language, dtype: int64\n",
      "-------------------\n",
      "Article                       1895\n",
      "Article; Proceedings Paper      88\n",
      "Article; Book Chapter            3\n",
      "Name: Document Type, dtype: int64\n"
     ]
    }
   ],
   "source": [
    "print('Análise Descritiva')\n",
    "for x in cd.df[['Publication Name','Language' ,'Document Type']].columns:\n",
    "    print('-------------------')\n",
    "    print(cd.df[x].value_counts().head())"
   ]
  },
  {
   "cell_type": "code",
   "execution_count": 7,
   "metadata": {},
   "outputs": [],
   "source": [
    "df_keywords = cd.df.dropna(subset=['Author Keywords'])"
   ]
  },
  {
   "cell_type": "code",
   "execution_count": 8,
   "metadata": {},
   "outputs": [],
   "source": [
    "#Criar uma lista com os artigos e palavras chave\n",
    "lev = ListEachValue(df_keywords, 'Document Title', 'Author Keywords', ';')"
   ]
  },
  {
   "cell_type": "code",
   "execution_count": 9,
   "metadata": {},
   "outputs": [],
   "source": [
    "df_keywords_only = lev.created.copy()"
   ]
  },
  {
   "cell_type": "code",
   "execution_count": 10,
   "metadata": {},
   "outputs": [],
   "source": [
    "#Transformar todos as palavras em minusculas \n",
    "df_keywords_only['Author Keywords'] = df_keywords_only['Author Keywords'].str.lower()\n",
    "df_keywords_only['Author Keywords'] = df_keywords_only['Author Keywords'].str.strip()"
   ]
  },
  {
   "cell_type": "code",
   "execution_count": 17,
   "metadata": {},
   "outputs": [],
   "source": [
    "trend20authors = df_keywords_only.groupby('Author Keywords').count().sort_values(by='title', ascending=False)"
   ]
  },
  {
   "cell_type": "code",
   "execution_count": 12,
   "metadata": {},
   "outputs": [],
   "source": [
    "trend20authors = trend20authors.unstack().reset_index()[['Author Keywords', 0]]\n",
    "trend20authors.columns = ['palavras chave', 'quantidade']"
   ]
  },
  {
   "cell_type": "code",
   "execution_count": 18,
   "metadata": {},
   "outputs": [
    {
     "data": {
      "text/html": [
       "<div>\n",
       "<style scoped>\n",
       "    .dataframe tbody tr th:only-of-type {\n",
       "        vertical-align: middle;\n",
       "    }\n",
       "\n",
       "    .dataframe tbody tr th {\n",
       "        vertical-align: top;\n",
       "    }\n",
       "\n",
       "    .dataframe thead th {\n",
       "        text-align: right;\n",
       "    }\n",
       "</style>\n",
       "<table border=\"1\" class=\"dataframe\">\n",
       "  <thead>\n",
       "    <tr style=\"text-align: right;\">\n",
       "      <th></th>\n",
       "      <th>title</th>\n",
       "    </tr>\n",
       "    <tr>\n",
       "      <th>Author Keywords</th>\n",
       "      <th></th>\n",
       "    </tr>\n",
       "  </thead>\n",
       "  <tbody>\n",
       "    <tr>\n",
       "      <th>life cycle assessment</th>\n",
       "      <td>118</td>\n",
       "    </tr>\n",
       "    <tr>\n",
       "      <th>sustainability</th>\n",
       "      <td>55</td>\n",
       "    </tr>\n",
       "    <tr>\n",
       "      <th>climate change</th>\n",
       "      <td>35</td>\n",
       "    </tr>\n",
       "    <tr>\n",
       "      <th>ecosystem services</th>\n",
       "      <td>32</td>\n",
       "    </tr>\n",
       "    <tr>\n",
       "      <th>community health workers</th>\n",
       "      <td>32</td>\n",
       "    </tr>\n",
       "    <tr>\n",
       "      <th>biodiversity</th>\n",
       "      <td>31</td>\n",
       "    </tr>\n",
       "    <tr>\n",
       "      <th>life cycle assessment (lca)</th>\n",
       "      <td>30</td>\n",
       "    </tr>\n",
       "    <tr>\n",
       "      <th>lca</th>\n",
       "      <td>28</td>\n",
       "    </tr>\n",
       "    <tr>\n",
       "      <th>carbon footprint</th>\n",
       "      <td>24</td>\n",
       "    </tr>\n",
       "    <tr>\n",
       "      <th>sustainable development</th>\n",
       "      <td>22</td>\n",
       "    </tr>\n",
       "    <tr>\n",
       "      <th>primary health care</th>\n",
       "      <td>20</td>\n",
       "    </tr>\n",
       "    <tr>\n",
       "      <th>industrial ecology</th>\n",
       "      <td>19</td>\n",
       "    </tr>\n",
       "    <tr>\n",
       "      <th>environmental impact</th>\n",
       "      <td>19</td>\n",
       "    </tr>\n",
       "    <tr>\n",
       "      <th>epidemiology</th>\n",
       "      <td>18</td>\n",
       "    </tr>\n",
       "    <tr>\n",
       "      <th>land use</th>\n",
       "      <td>18</td>\n",
       "    </tr>\n",
       "    <tr>\n",
       "      <th>community health</th>\n",
       "      <td>17</td>\n",
       "    </tr>\n",
       "    <tr>\n",
       "      <th>greenhouse gas emissions</th>\n",
       "      <td>15</td>\n",
       "    </tr>\n",
       "    <tr>\n",
       "      <th>uncertainty</th>\n",
       "      <td>14</td>\n",
       "    </tr>\n",
       "    <tr>\n",
       "      <th>china</th>\n",
       "      <td>14</td>\n",
       "    </tr>\n",
       "    <tr>\n",
       "      <th>life cycle analysis</th>\n",
       "      <td>13</td>\n",
       "    </tr>\n",
       "    <tr>\n",
       "      <th>ecosystem</th>\n",
       "      <td>13</td>\n",
       "    </tr>\n",
       "    <tr>\n",
       "      <th>canada</th>\n",
       "      <td>13</td>\n",
       "    </tr>\n",
       "    <tr>\n",
       "      <th>environment</th>\n",
       "      <td>13</td>\n",
       "    </tr>\n",
       "    <tr>\n",
       "      <th>nitrogen</th>\n",
       "      <td>13</td>\n",
       "    </tr>\n",
       "    <tr>\n",
       "      <th>energy consumption</th>\n",
       "      <td>13</td>\n",
       "    </tr>\n",
       "    <tr>\n",
       "      <th>eutrophication</th>\n",
       "      <td>12</td>\n",
       "    </tr>\n",
       "    <tr>\n",
       "      <th>life-cycle assessment</th>\n",
       "      <td>12</td>\n",
       "    </tr>\n",
       "    <tr>\n",
       "      <th>governance</th>\n",
       "      <td>12</td>\n",
       "    </tr>\n",
       "    <tr>\n",
       "      <th>phytoplankton</th>\n",
       "      <td>12</td>\n",
       "    </tr>\n",
       "    <tr>\n",
       "      <th>obesity</th>\n",
       "      <td>12</td>\n",
       "    </tr>\n",
       "    <tr>\n",
       "      <th>...</th>\n",
       "      <td>...</td>\n",
       "    </tr>\n",
       "    <tr>\n",
       "      <th>france</th>\n",
       "      <td>1</td>\n",
       "    </tr>\n",
       "    <tr>\n",
       "      <th>framework</th>\n",
       "      <td>1</td>\n",
       "    </tr>\n",
       "    <tr>\n",
       "      <th>frame</th>\n",
       "      <td>1</td>\n",
       "    </tr>\n",
       "    <tr>\n",
       "      <th>frailty</th>\n",
       "      <td>1</td>\n",
       "    </tr>\n",
       "    <tr>\n",
       "      <th>fragments</th>\n",
       "      <td>1</td>\n",
       "    </tr>\n",
       "    <tr>\n",
       "      <th>fragmentation and configuration</th>\n",
       "      <td>1</td>\n",
       "    </tr>\n",
       "    <tr>\n",
       "      <th>fragile and conflict affected environments</th>\n",
       "      <td>1</td>\n",
       "    </tr>\n",
       "    <tr>\n",
       "      <th>freshwater withdrawal impact</th>\n",
       "      <td>1</td>\n",
       "    </tr>\n",
       "    <tr>\n",
       "      <th>frrf</th>\n",
       "      <td>1</td>\n",
       "    </tr>\n",
       "    <tr>\n",
       "      <th>frugivorous birds</th>\n",
       "      <td>1</td>\n",
       "    </tr>\n",
       "    <tr>\n",
       "      <th>fugitive emission</th>\n",
       "      <td>1</td>\n",
       "    </tr>\n",
       "    <tr>\n",
       "      <th>functional redundancy</th>\n",
       "      <td>1</td>\n",
       "    </tr>\n",
       "    <tr>\n",
       "      <th>functional grouping</th>\n",
       "      <td>1</td>\n",
       "    </tr>\n",
       "    <tr>\n",
       "      <th>functional group</th>\n",
       "      <td>1</td>\n",
       "    </tr>\n",
       "    <tr>\n",
       "      <th>functional equivalence</th>\n",
       "      <td>1</td>\n",
       "    </tr>\n",
       "    <tr>\n",
       "      <th>functional ecosystem characteristics</th>\n",
       "      <td>1</td>\n",
       "    </tr>\n",
       "    <tr>\n",
       "      <th>functional balance</th>\n",
       "      <td>1</td>\n",
       "    </tr>\n",
       "    <tr>\n",
       "      <th>fulvics</th>\n",
       "      <td>1</td>\n",
       "    </tr>\n",
       "    <tr>\n",
       "      <th>full cost</th>\n",
       "      <td>1</td>\n",
       "    </tr>\n",
       "    <tr>\n",
       "      <th>fuelwood</th>\n",
       "      <td>1</td>\n",
       "    </tr>\n",
       "    <tr>\n",
       "      <th>frugivory</th>\n",
       "      <td>1</td>\n",
       "    </tr>\n",
       "    <tr>\n",
       "      <th>fuels</th>\n",
       "      <td>1</td>\n",
       "    </tr>\n",
       "    <tr>\n",
       "      <th>fuelling</th>\n",
       "      <td>1</td>\n",
       "    </tr>\n",
       "    <tr>\n",
       "      <th>fuel poverty</th>\n",
       "      <td>1</td>\n",
       "    </tr>\n",
       "    <tr>\n",
       "      <th>fuel efficiency</th>\n",
       "      <td>1</td>\n",
       "    </tr>\n",
       "    <tr>\n",
       "      <th>fuel consumption</th>\n",
       "      <td>1</td>\n",
       "    </tr>\n",
       "    <tr>\n",
       "      <th>fucus serratus</th>\n",
       "      <td>1</td>\n",
       "    </tr>\n",
       "    <tr>\n",
       "      <th>fruit tree crops</th>\n",
       "      <td>1</td>\n",
       "    </tr>\n",
       "    <tr>\n",
       "      <th>fruit tracking</th>\n",
       "      <td>1</td>\n",
       "    </tr>\n",
       "    <tr>\n",
       "      <th>kwa-zulu natal</th>\n",
       "      <td>1</td>\n",
       "    </tr>\n",
       "  </tbody>\n",
       "</table>\n",
       "<p>6397 rows × 1 columns</p>\n",
       "</div>"
      ],
      "text/plain": [
       "                                            title\n",
       "Author Keywords                                  \n",
       "life cycle assessment                         118\n",
       "sustainability                                 55\n",
       "climate change                                 35\n",
       "ecosystem services                             32\n",
       "community health workers                       32\n",
       "biodiversity                                   31\n",
       "life cycle assessment (lca)                    30\n",
       "lca                                            28\n",
       "carbon footprint                               24\n",
       "sustainable development                        22\n",
       "primary health care                            20\n",
       "industrial ecology                             19\n",
       "environmental impact                           19\n",
       "epidemiology                                   18\n",
       "land use                                       18\n",
       "community health                               17\n",
       "greenhouse gas emissions                       15\n",
       "uncertainty                                    14\n",
       "china                                          14\n",
       "life cycle analysis                            13\n",
       "ecosystem                                      13\n",
       "canada                                         13\n",
       "environment                                    13\n",
       "nitrogen                                       13\n",
       "energy consumption                             13\n",
       "eutrophication                                 12\n",
       "life-cycle assessment                          12\n",
       "governance                                     12\n",
       "phytoplankton                                  12\n",
       "obesity                                        12\n",
       "...                                           ...\n",
       "france                                          1\n",
       "framework                                       1\n",
       "frame                                           1\n",
       "frailty                                         1\n",
       "fragments                                       1\n",
       "fragmentation and configuration                 1\n",
       "fragile and conflict affected environments      1\n",
       "freshwater withdrawal impact                    1\n",
       "frrf                                            1\n",
       "frugivorous birds                               1\n",
       "fugitive emission                               1\n",
       "functional redundancy                           1\n",
       "functional grouping                             1\n",
       "functional group                                1\n",
       "functional equivalence                          1\n",
       "functional ecosystem characteristics            1\n",
       "functional balance                              1\n",
       "fulvics                                         1\n",
       "full cost                                       1\n",
       "fuelwood                                        1\n",
       "frugivory                                       1\n",
       "fuels                                           1\n",
       "fuelling                                        1\n",
       "fuel poverty                                    1\n",
       "fuel efficiency                                 1\n",
       "fuel consumption                                1\n",
       "fucus serratus                                  1\n",
       "fruit tree crops                                1\n",
       "fruit tracking                                  1\n",
       "kwa-zulu natal                                  1\n",
       "\n",
       "[6397 rows x 1 columns]"
      ]
     },
     "execution_count": 18,
     "metadata": {},
     "output_type": "execute_result"
    }
   ],
   "source": [
    "trend20authors"
   ]
  },
  {
   "cell_type": "code",
   "execution_count": 70,
   "metadata": {},
   "outputs": [
    {
     "data": {
      "text/plain": [
       "' life cycle assessment'"
      ]
     },
     "execution_count": 70,
     "metadata": {},
     "output_type": "execute_result"
    }
   ],
   "source": [
    "trend20authors.loc[0][0]"
   ]
  },
  {
   "cell_type": "code",
   "execution_count": 71,
   "metadata": {},
   "outputs": [
    {
     "data": {
      "text/plain": [
       "'life cycle assessment'"
      ]
     },
     "execution_count": 71,
     "metadata": {},
     "output_type": "execute_result"
    }
   ],
   "source": [
    "trend20authors.loc[8][0]"
   ]
  },
  {
   "cell_type": "code",
   "execution_count": 24,
   "metadata": {},
   "outputs": [
    {
     "data": {
      "text/plain": [
       "<matplotlib.axes._subplots.AxesSubplot at 0x21eba63a748>"
      ]
     },
     "execution_count": 24,
     "metadata": {},
     "output_type": "execute_result"
    },
    {
     "data": {
      "image/png": "[encoded data removed]",
      "text/plain": [
       "<matplotlib.figure.Figure at 0x21eba63ae80>"
      ]
     },
     "metadata": {},
     "output_type": "display_data"
    }
   ],
   "source": [
    "#Show daframe created\n",
    "import matplotlib.pyplot as plt\n",
    "sns.set(style=\"whitegrid\", palette=\"GnBu_r\")\n",
    "\n",
    "# Initialize the matplotlib figure\n",
    "f, ax = plt.subplots(figsize=(29, 6))\n",
    "\n",
    "sns.barplot(x=trend20authors[['palavras chave']].apply(lambda x: x[0].title(), axis=1), y=trend20authors['quantidade'], palette=\"GnBu_r\")"
   ]
  },
  {
   "cell_type": "code",
   "execution_count": 186,
   "metadata": {},
   "outputs": [
    {
     "data": {
      "text/plain": [
       "Index(['Publication Type (J=Journal; B=Book; S=Series; P=Patent)', 'Authors',\n",
       "       'Book Authors', 'Editors', 'Book Group Authors', 'Author Full Name',\n",
       "       'Book Authors Full Name', 'Group Authors', 'Document Title',\n",
       "       'Publication Name', 'Book Series Title', 'Book Series Subtitle',\n",
       "       'Language', 'Document Type', 'Conference Title', 'Conference Date',\n",
       "       'Conference Location', 'Conference Sponsors', 'Conference Host',\n",
       "       'Author Keywords', 'Keywords Plus®', 'Abstract', 'Author Address',\n",
       "       'Reprint Address', 'E-mail Address', 'ResearcherID Number',\n",
       "       'ORCID Identifier (Open Researcher and Contributor ID)',\n",
       "       'Funding Agency and Grant Number', 'Funding Text', 'Cited References',\n",
       "       'Cited Reference Count',\n",
       "       'Web of Science Core Collection Times Cited Count',\n",
       "       'Total Times Cited Count (Web of Science Core Collection, BIOSIS CitationIndex, Chinese Science Citation Database, Data Citation Index, Russian ScienceCitation Index, SciELO Citation Index)',\n",
       "       'Usage Count (Last 180 Days)', 'Usage Count (Since 2013)', 'Publisher',\n",
       "       'Publisher City', 'Publisher Address',\n",
       "       'International Standard Serial Number (ISSN)',\n",
       "       'Electronic International Standard Serial Number (eISSN)',\n",
       "       'International Standard Book Number (ISBN)',\n",
       "       '29-Character Source Abbreviation', 'ISO Source Abbreviation',\n",
       "       'Publication Date', 'Year Published', 'Volume', 'Issue', 'Part Number',\n",
       "       'Supplement', 'Special Issue', 'Meeting Abstract', 'Beginning Page',\n",
       "       'Ending Page', 'Article Number', 'Digital Object Identifier (DOI)',\n",
       "       'Book Digital Object Identifier (DOI)', 'Early access date',\n",
       "       'Early access year', 'Page Count', 'Web of Science Categories',\n",
       "       'Research Areas', 'Document Delivery Number', 'Accession Number',\n",
       "       'PubMed ID', 'Open Access Indicator',\n",
       "       'ESI Highly Cited Paper. Note that this field is valued only for ESIsubscribers.',\n",
       "       'ESI Hot Paper. Note that this field is valued only for ESI subscribers.',\n",
       "       'Date this report was generated.'],\n",
       "      dtype='object')"
      ]
     },
     "execution_count": 186,
     "metadata": {},
     "output_type": "execute_result"
    }
   ],
   "source": [
    "lev.df"
   ]
  },
  {
   "cell_type": "code",
   "execution_count": 203,
   "metadata": {},
   "outputs": [
    {
     "data": {
      "text/plain": [
       "<matplotlib.axes._subplots.AxesSubplot at 0x1802525ef60>"
      ]
     },
     "execution_count": 203,
     "metadata": {},
     "output_type": "execute_result"
    },
    {
     "data": {
      "image/png": "[encoded data removed]",
      "text/plain": [
       "<matplotlib.figure.Figure at 0x180253510f0>"
      ]
     },
     "metadata": {},
     "output_type": "display_data"
    }
   ],
   "source": [
    "f, ax = plt.subplots(figsize=(10, 6))\n",
    "sns.lineplot(data=lev.df.groupby('Year Published').count()['Publication Name'])\n"
   ]
  },
  {
   "cell_type": "code",
   "execution_count": 26,
   "metadata": {
    "scrolled": true
   },
   "outputs": [
    {
     "data": {
      "text/html": [
       "<div>\n",
       "<style scoped>\n",
       "    .dataframe tbody tr th:only-of-type {\n",
       "        vertical-align: middle;\n",
       "    }\n",
       "\n",
       "    .dataframe tbody tr th {\n",
       "        vertical-align: top;\n",
       "    }\n",
       "\n",
       "    .dataframe thead th {\n",
       "        text-align: right;\n",
       "    }\n",
       "</style>\n",
       "<table border=\"1\" class=\"dataframe\">\n",
       "  <thead>\n",
       "    <tr style=\"text-align: right;\">\n",
       "      <th></th>\n",
       "      <th>Authors</th>\n",
       "      <th>title</th>\n",
       "    </tr>\n",
       "  </thead>\n",
       "  <tbody>\n",
       "    <tr>\n",
       "      <th>2847</th>\n",
       "      <td>Laurie, CC</td>\n",
       "      <td>8</td>\n",
       "    </tr>\n",
       "    <tr>\n",
       "      <th>3305</th>\n",
       "      <td>Margni, M</td>\n",
       "      <td>8</td>\n",
       "    </tr>\n",
       "    <tr>\n",
       "      <th>3417</th>\n",
       "      <td>McKinlay, JB</td>\n",
       "      <td>7</td>\n",
       "    </tr>\n",
       "    <tr>\n",
       "      <th>1835</th>\n",
       "      <td>Gogarten, SM</td>\n",
       "      <td>7</td>\n",
       "    </tr>\n",
       "    <tr>\n",
       "      <th>4623</th>\n",
       "      <td>Sala, S</td>\n",
       "      <td>7</td>\n",
       "    </tr>\n",
       "  </tbody>\n",
       "</table>\n",
       "</div>"
      ],
      "text/plain": [
       "            Authors  title\n",
       "2847     Laurie, CC      8\n",
       "3305      Margni, M      8\n",
       "3417   McKinlay, JB      7\n",
       "1835   Gogarten, SM      7\n",
       "4623        Sala, S      7"
      ]
     },
     "execution_count": 26,
     "metadata": {},
     "output_type": "execute_result"
    }
   ],
   "source": [
    "lev.group('title').head()"
   ]
  },
  {
   "cell_type": "code",
   "execution_count": 99,
   "metadata": {},
   "outputs": [
    {
     "data": {
      "text/plain": [
       "8016"
      ]
     },
     "execution_count": 99,
     "metadata": {},
     "output_type": "execute_result"
    }
   ],
   "source": [
    "#Count authors in table\n",
    "len(lev.group('title'))"
   ]
  },
  {
   "cell_type": "code",
   "execution_count": 98,
   "metadata": {},
   "outputs": [
    {
     "data": {
      "text/plain": [
       "1987"
      ]
     },
     "execution_count": 98,
     "metadata": {},
     "output_type": "execute_result"
    }
   ],
   "source": [
    "#Count nummbeer of article in table\n",
    "len(cd.df['Authors'])"
   ]
  },
  {
   "cell_type": "code",
   "execution_count": null,
   "metadata": {},
   "outputs": [],
   "source": []
  },
  {
   "cell_type": "code",
   "execution_count": 83,
   "metadata": {},
   "outputs": [
    {
     "data": {
      "text/plain": [
       "Publication Type (J=Journal; B=Book; S=Series; P=Patent)                                                                           J\n",
       "Authors                                                                            Gao, GY; Shen, Q; Zhang, Y; Pan, NQ; Ma, Y; Ji...\n",
       "Book Authors                                                                                                                     NaN\n",
       "Editors                                                                                                                          NaN\n",
       "Book Group Authors                                                                                                               NaN\n",
       "Author Full Name                                                                   Gao, Guangyao; Shen, Qin; Zhang, Yan; Pan, Nai...\n",
       "Book Authors Full Name                                                                                                           NaN\n",
       "Group Authors                                                                                                                    NaN\n",
       "Document Title                                                                     determining spatio-temporal variations of ecol...\n",
       "Publication Name                                                                                       JOURNAL OF CLEANER PRODUCTION\n",
       "Book Series Title                                                                                                                NaN\n",
       "Book Series Subtitle                                                                                                             NaN\n",
       "Language                                                                                                                     English\n",
       "Document Type                                                                                                                Article\n",
       "Conference Title                                                                                                                 NaN\n",
       "Conference Date                                                                                                                  NaN\n",
       "Conference Location                                                                                                              NaN\n",
       "Conference Sponsors                                                                                                              NaN\n",
       "Conference Host                                                                                                                  NaN\n",
       "Author Keywords                                                                    ecological water consumption; desert riparian ...\n",
       "Keywords Plus®                                                                     BALANCE SYSTEM SEBS; DESERT RIPARIAN VEGETATIO...\n",
       "Abstract                                                                           Natural oases, including desert riparian veget...\n",
       "Author Address                                                                     [Gao, Guangyao; Pan, Naiqing; Fu, Bojie] Chine...\n",
       "Reprint Address                                                                    Fu, BJ (reprint author), Chinese Acad Sci, Res...\n",
       "E-mail Address                                                                                    gygao@rcees.ac.cn; bfu@rcees.ac.cn\n",
       "ResearcherID Number                                                                                            Fu, Bojie/B-1493-2009\n",
       "ORCID Identifier (Open Researcher and Contributor ID)                                                                            NaN\n",
       "Funding Agency and Grant Number                                                    National Natural Science Foundation of China [...\n",
       "Funding Text                                                                       This research was financially supported by the...\n",
       "Cited References                                                                                                                 NaN\n",
       "                                                                                                         ...                        \n",
       "International Standard Serial Number (ISSN)                                                                                0959-6526\n",
       "Electronic International Standard Serial Number (eISSN)                                                                    1879-1786\n",
       "International Standard Book Number (ISBN)                                                                                        NaN\n",
       "29-Character Source Abbreviation                                                                                        J CLEAN PROD\n",
       "ISO Source Abbreviation                                                                                               J. Clean Prod.\n",
       "Publication Date                                                                                                 2001-06-01 00:00:00\n",
       "Year Published                                                                                                                  2018\n",
       "Volume                                                                                                                           185\n",
       "Issue                                                                                                                            NaN\n",
       "Part Number                                                                                                                      NaN\n",
       "Supplement                                                                                                                       NaN\n",
       "Special Issue                                                                                                                    NaN\n",
       "Meeting Abstract                                                                                                                 NaN\n",
       "Beginning Page                                                                                                                     1\n",
       "Ending Page                                                                                                                       13\n",
       "Article Number                                                                                                                   NaN\n",
       "Digital Object Identifier (DOI)                                                                        10.1016/j.jclepro.2018.03.025\n",
       "Book Digital Object Identifier (DOI)                                                                                             NaN\n",
       "Early access date                                                                                                                NaN\n",
       "Early access year                                                                                                                NaN\n",
       "Page Count                                                                                                                        13\n",
       "Web of Science Categories                                                          GREEN & SUSTAINABLE SCIENCE & TECHNOLOGY; Engi...\n",
       "Research Areas                                                                     Science & Technology - Other Topics; Engineeri...\n",
       "Document Delivery Number                                                                                                       GD8OS\n",
       "Accession Number                                                                                                 WOS:000430772400001\n",
       "PubMed ID                                                                                                                        NaN\n",
       "Open Access Indicator                                                                                                            NaN\n",
       "ESI Highly Cited Paper. Note that this field is valued only for ESIsubscribers.                                                  NaN\n",
       "ESI Hot Paper. Note that this field is valued only for ESI subscribers.                                                          NaN\n",
       "Date this report was generated.                                                                                  2018-07-03 00:00:00\n",
       "Name: 0, Length: 68, dtype: object"
      ]
     },
     "execution_count": 83,
     "metadata": {},
     "output_type": "execute_result"
    }
   ],
   "source": [
    "cd.df.iloc[0]"
   ]
  }
 ],
 "metadata": {
  "kernelspec": {
   "display_name": "Python3.5",
   "language": "python",
   "name": "python3.5"
  },
  "language_info": {
   "codemirror_mode": {
    "name": "ipython",
    "version": 3
   },
   "file_extension": ".py",
   "mimetype": "text/x-python",
   "name": "python",
   "nbconvert_exporter": "python",
   "pygments_lexer": "ipython3",
   "version": "3.6.5"
  }
 },
 "nbformat": 4,
 "nbformat_minor": 2
}
