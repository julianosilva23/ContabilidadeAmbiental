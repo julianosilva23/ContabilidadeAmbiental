{
 "cells": [
  {
   "cell_type": "code",
   "execution_count": 14,
   "metadata": {},
   "outputs": [],
   "source": [
    "import pandas as pd\n",
    "import requests\n",
    "from bs4 import BeautifulSoup"
   ]
  },
  {
   "cell_type": "code",
   "execution_count": 32,
   "metadata": {},
   "outputs": [],
   "source": [
    "c1 = pd.read_excel('c1.xlsx')"
   ]
  },
  {
   "cell_type": "code",
   "execution_count": 33,
   "metadata": {},
   "outputs": [],
   "source": [
    "def colunas():\n",
    "    page = requests.get(\"https://images.webofknowledge.com/images/help/WOS/hs_wos_fieldtags.html\")\n",
    "    soup = BeautifulSoup(page.content, 'html.parser')\n",
    "    cod = soup.find('td').find_all('strong')\n",
    "    trad = soup.find('td').find_all('p')\n",
    "    traducao = [tr.get_text() for tr in trad]\n",
    "    codigo = [c.get_text() for c in cod]\n",
    "    del traducao[0]\n",
    "    return [traducao,codigo]"
   ]
  },
  {
   "cell_type": "code",
   "execution_count": 34,
   "metadata": {},
   "outputs": [],
   "source": [
    "traducao = colunas()\n",
    "index = c1.columns\n",
    "nc = []\n",
    "for x in index:\n",
    "    nc.append(traducao[0][traducao[1].index(x)])\n",
    "c1.columns = nc"
   ]
  },
  {
   "cell_type": "code",
   "execution_count": 41,
   "metadata": {},
   "outputs": [
    {
     "ename": "AttributeError",
     "evalue": "'_iLocIndexer' object has no attribute 'split'",
     "output_type": "error",
     "traceback": [
      "\u001b[1;31m---------------------------------------------------------------------------\u001b[0m",
      "\u001b[1;31mAttributeError\u001b[0m                            Traceback (most recent call last)",
      "\u001b[1;32m<ipython-input-41-db75d6746018>\u001b[0m in \u001b[0;36m<module>\u001b[1;34m()\u001b[0m\n\u001b[1;32m----> 1\u001b[1;33m \u001b[0mc1\u001b[0m\u001b[1;33m[\u001b[0m\u001b[1;34m'Keywords Plus®\\n'\u001b[0m\u001b[1;33m]\u001b[0m\u001b[1;33m.\u001b[0m\u001b[0miloc\u001b[0m\u001b[1;33m(\u001b[0m\u001b[1;36m0\u001b[0m\u001b[1;33m)\u001b[0m\u001b[1;33m.\u001b[0m\u001b[0msplit\u001b[0m\u001b[1;33m(\u001b[0m\u001b[1;34m';'\u001b[0m\u001b[1;33m)\u001b[0m\u001b[1;33m\u001b[0m\u001b[0m\n\u001b[0m",
      "\u001b[1;31mAttributeError\u001b[0m: '_iLocIndexer' object has no attribute 'split'"
     ]
    }
   ],
   "source": []
  },
  {
   "cell_type": "code",
   "execution_count": 36,
   "metadata": {},
   "outputs": [
    {
     "data": {
      "text/plain": [
       "Index(['Publication Type (J=Journal; B=Book; S=Series; P=Patent)', 'Authors',\n",
       "       'Book Authors', 'Editors', 'Book Group Authors', 'Author Full Name',\n",
       "       'Book Authors Full Name', 'Group Authors', 'Document Title',\n",
       "       'Publication Name', 'Book Series Title', 'Book Series Subtitle',\n",
       "       'Language', 'Document Type', 'Conference Title', 'Conference Date',\n",
       "       'Conference Location', 'Conference Sponsors', 'Conference Host',\n",
       "       'Author Keywords', 'Keywords Plus®\\n', 'Abstract', 'Author Address',\n",
       "       'Reprint Address', 'E-mail Address', 'ResearcherID Number',\n",
       "       'ORCID Identifier (Open Researcher and Contributor ID)',\n",
       "       'Funding Agency and Grant Number', 'Funding Text', 'Cited References',\n",
       "       'Cited Reference Count',\n",
       "       'Web of Science Core Collection Times Cited Count',\n",
       "       'Total Times Cited Count (Web of Science Core Collection, BIOSIS Citation\\nIndex, Chinese Science Citation Database, Data Citation Index, Russian Science\\nCitation Index, SciELO Citation Index)',\n",
       "       'Usage Count (Last 180 Days)', 'Usage Count (Since 2013)', 'Publisher',\n",
       "       'Publisher City', 'Publisher Address',\n",
       "       'International Standard Serial Number (ISSN)',\n",
       "       'Electronic International Standard Serial Number (eISSN)',\n",
       "       'International Standard Book Number (ISBN)',\n",
       "       '29-Character Source Abbreviation', 'ISO Source Abbreviation',\n",
       "       'Publication Date', 'Year Published', 'Volume', 'Issue', 'Part Number',\n",
       "       'Supplement', 'Special Issue', 'Meeting Abstract', 'Beginning Page',\n",
       "       'Ending Page', 'Article Number', 'Digital Object Identifier (DOI)',\n",
       "       'Book Digital Object Identifier (DOI)', 'Early access date',\n",
       "       'Early access year', 'Page Count', 'Web of Science Categories',\n",
       "       'Research Areas', 'Document Delivery Number', 'Accession Number',\n",
       "       'PubMed ID', 'Open Access Indicator',\n",
       "       'ESI Highly Cited Paper. Note that this field is valued only for ESI\\nsubscribers.',\n",
       "       'ESI Hot Paper. Note that this field is valued only for ESI subscribers.',\n",
       "       'Date this report was generated.'],\n",
       "      dtype='object')"
      ]
     },
     "execution_count": 36,
     "metadata": {},
     "output_type": "execute_result"
    }
   ],
   "source": [
    "c1.columns"
   ]
  },
  {
   "cell_type": "code",
   "execution_count": 37,
   "metadata": {},
   "outputs": [],
   "source": [
    "autores = pd.DataFrame([],columns=['Codigo','Titulo', 'Autores'])"
   ]
  },
  {
   "cell_type": "code",
   "execution_count": 39,
   "metadata": {},
   "outputs": [],
   "source": [
    "i = 0\n",
    "for index, row in c1.iterrows():    \n",
    "    if(';' in row['Authors']):    \n",
    "        for x in row['Authors'].split(';'):            \n",
    "            autores= autores.append(pd.DataFrame({'Codigo': i, 'Titulo': row['Document Title'], 'Autores': x}, index=[0]), ignore_index=True, sort=False)            \n",
    "    else:\n",
    "        autores= autores.append(pd.DataFrame({'Codigo': i, 'Titulo': row['Document Title'], 'Autores': row['Authors']}, index=[0]), ignore_index=True, sort=False)                \n",
    "    i = i + 1"
   ]
  },
  {
   "cell_type": "code",
   "execution_count": 3,
   "metadata": {},
   "outputs": [
    {
     "ename": "NameError",
     "evalue": "name 'autores' is not defined",
     "output_type": "error",
     "traceback": [
      "\u001b[1;31m---------------------------------------------------------------------------\u001b[0m",
      "\u001b[1;31mNameError\u001b[0m                                 Traceback (most recent call last)",
      "\u001b[1;32m<ipython-input-3-078bd49fb188>\u001b[0m in \u001b[0;36m<module>\u001b[1;34m()\u001b[0m\n\u001b[1;32m----> 1\u001b[1;33m \u001b[0mautores\u001b[0m\u001b[1;33m\u001b[0m\u001b[0m\n\u001b[0m",
      "\u001b[1;31mNameError\u001b[0m: name 'autores' is not defined"
     ]
    }
   ],
   "source": [
    "autores"
   ]
  }
 ],
 "metadata": {
  "kernelspec": {
   "display_name": "Python 3",
   "language": "python",
   "name": "python3"
  }
 },
 "nbformat": 4,
 "nbformat_minor": 2
}
