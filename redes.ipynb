{
 "cells": [
  {
   "cell_type": "code",
   "execution_count": 42,
   "metadata": {},
   "outputs": [],
   "source": [
    "import pandas as pd\n",
    "import requests\n",
    "import numpy as np\n",
    "from bs4 import BeautifulSoup"
   ]
  },
  {
   "cell_type": "code",
   "execution_count": 67,
   "metadata": {},
   "outputs": [],
   "source": [
    "# Import bibliometrics data in python\n",
    "c1 = pd.read_excel('c1.xlsx')"
   ]
  },
  {
   "cell_type": "code",
   "execution_count": 70,
   "metadata": {},
   "outputs": [],
   "source": [
    "#Download the codes of coluns in database Web of Science and replace with full labels\n",
    "def colunas(dataframe):\n",
    "    page = requests.get(\"https://images.webofknowledge.com/images/help/WOS/hs_wos_fieldtags.html\")\n",
    "    soup = BeautifulSoup(page.content, 'html.parser')\n",
    "    cod = soup.find('td').find_all('strong')\n",
    "    trad = soup.find('td').find_all('p')\n",
    "    traducao = [tr.get_text() for tr in trad]\n",
    "    codigo = [c.get_text() for c in cod]\n",
    "    del traducao[0]\n",
    "    index = dataframe.columns\n",
    "    nc = []\n",
    "    for x in index:\n",
    "        nc.append(traducao[codigo.index(x)])\n",
    "    dataframe.columns = nc\n",
    "    return dataframe"
   ]
  },
  {
   "cell_type": "code",
   "execution_count": 69,
   "metadata": {},
   "outputs": [],
   "source": [
    "c1novo = colunas(c1)"
   ]
  },
  {
   "cell_type": "code",
   "execution_count": 80,
   "metadata": {},
   "outputs": [],
   "source": [
    "#Create new dataframe for list all cods of publication and authors in rows \n",
    "i = 0\n",
    "autores = pd.DataFrame()\n",
    "for index, row in c1.iterrows():    \n",
    "    if(';' in row['Authors']):    \n",
    "        for x in row['Authors'].split(';'):            \n",
    "            autores= autores.append(pd.DataFrame({'Codigo': i, 'Titulo': row['Document Title'], 'Autores': x}, index=[0]), ignore_index=True, sort=False)            \n",
    "    else:\n",
    "        autores= autores.append(pd.DataFrame({'Codigo': i, 'Titulo': row['Document Title'], 'Autores': row['Authors']}, index=[0]), ignore_index=True, sort=False)                \n",
    "    i = i + 1"
   ]
  },
  {
   "cell_type": "code",
   "execution_count": 79,
   "metadata": {},
   "outputs": [],
   "source": [
    "# This section convert simple table data in pivot table, similar of excel. More information https://pandas.pydata.org/pandas-docs/stable/generated/pandas.pivot_table.html\n",
    "pivottable = pd.pivot_table(autores, values='Titulo', index=['Autores'], columns=['Codigo'],aggfunc=np.count_nonzero, fill_value=0)"
   ]
  },
  {
   "cell_type": "code",
   "execution_count": 136,
   "metadata": {},
   "outputs": [],
   "source": [
    "# Create a Pandas Excel writer using XlsxWriter as the engine.\n",
    "writer = pd.ExcelWriter('teste.xlsx', engine='xlsxwriter')\n",
    "\n",
    "# Convert the dataframe to an XlsxWriter Excel object.\n",
    "pivottable.to_excel(writer, sheet_name='Sheet1')\n",
    "\n",
    "# Close the Pandas Excel writer and output the Excel file.\n",
    "writer.save()\n",
    "\n"
   ]
  },
  {
   "cell_type": "code",
   "execution_count": 131,
   "metadata": {
    "scrolled": true
   },
   "outputs": [
    {
     "data": {
      "image/png": "[encoded data removed]",
      "text/plain": [
       "<Figure size 432x288 with 1 Axes>"
      ]
     },
     "metadata": {},
     "output_type": "display_data"
    }
   ],
   "source": []
  }
 ],
 "metadata": {
  "kernelspec": {
   "display_name": "Python 3",
   "language": "python",
   "name": "python3"
  },
  "language_info": {
   "codemirror_mode": {
    "name": "ipython",
    "version": 3
   },
   "file_extension": ".py",
   "mimetype": "text/x-python",
   "name": "python",
   "nbconvert_exporter": "python",
   "pygments_lexer": "ipython3",
   "version": "3.6.5"
  }
 },
 "nbformat": 4,
 "nbformat_minor": 2
}
