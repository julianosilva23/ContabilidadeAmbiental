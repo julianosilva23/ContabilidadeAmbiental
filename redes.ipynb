{
 "cells": [
  {
   "cell_type": "code",
   "execution_count": 67,
   "metadata": {},
   "outputs": [],
   "source": [
    "import pandas as pd\n",
    "import requests\n",
    "import numpy as np\n",
    "from bs4 import BeautifulSoup"
   ]
  },
  {
   "cell_type": "code",
   "execution_count": 50,
   "metadata": {},
   "outputs": [],
   "source": [
    "c1 = pd.read_excel('c1.xlsx')"
   ]
  },
  {
   "cell_type": "code",
   "execution_count": 51,
   "metadata": {},
   "outputs": [],
   "source": [
    "def colunas():\n",
    "    page = requests.get(\"https://images.webofknowledge.com/images/help/WOS/hs_wos_fieldtags.html\")\n",
    "    soup = BeautifulSoup(page.content, 'html.parser')\n",
    "    cod = soup.find('td').find_all('strong')\n",
    "    trad = soup.find('td').find_all('p')\n",
    "    traducao = [tr.get_text() for tr in trad]\n",
    "    codigo = [c.get_text() for c in cod]\n",
    "    del traducao[0]\n",
    "    return [traducao,codigo]"
   ]
  },
  {
   "cell_type": "code",
   "execution_count": 52,
   "metadata": {},
   "outputs": [],
   "source": [
    "traducao = colunas()\n",
    "index = c1.columns\n",
    "nc = []\n",
    "for x in index:\n",
    "    nc.append(traducao[0][traducao[1].index(x)])\n",
    "c1.columns = nc"
   ]
  },
  {
   "cell_type": "code",
   "execution_count": 63,
   "metadata": {},
   "outputs": [],
   "source": [
    "i = 0\n",
    "for index, row in c1.iterrows():    \n",
    "    if(';' in row['Authors']):    \n",
    "        for x in row['Authors'].split(';'):            \n",
    "            autores= autores.append(pd.DataFrame({'Codigo': i, 'Titulo': row['Document Title'], 'Autores': x}, index=[0]), ignore_index=True, sort=False)            \n",
    "    else:\n",
    "        autores= autores.append(pd.DataFrame({'Codigo': i, 'Titulo': row['Document Title'], 'Autores': row['Authors']}, index=[0]), ignore_index=True, sort=False)                \n",
    "    i = i + 1"
   ]
  },
  {
   "cell_type": "code",
   "execution_count": 90,
   "metadata": {},
   "outputs": [
    {
     "data": {
      "text/html": [
       "<div>\n",
       "<style scoped>\n",
       "    .dataframe tbody tr th:only-of-type {\n",
       "        vertical-align: middle;\n",
       "    }\n",
       "\n",
       "    .dataframe tbody tr th {\n",
       "        vertical-align: top;\n",
       "    }\n",
       "\n",
       "    .dataframe thead th {\n",
       "        text-align: right;\n",
       "    }\n",
       "</style>\n",
       "<table border=\"1\" class=\"dataframe\">\n",
       "  <thead>\n",
       "    <tr style=\"text-align: right;\">\n",
       "      <th></th>\n",
       "      <th>Codigo</th>\n",
       "      <th>Titulo</th>\n",
       "      <th>Autores</th>\n",
       "    </tr>\n",
       "  </thead>\n",
       "  <tbody>\n",
       "    <tr>\n",
       "      <th>0</th>\n",
       "      <td>0</td>\n",
       "      <td>The Dynamics of Human-Environment Interactions...</td>\n",
       "      <td>Roman, S</td>\n",
       "    </tr>\n",
       "    <tr>\n",
       "      <th>1</th>\n",
       "      <td>0</td>\n",
       "      <td>The Dynamics of Human-Environment Interactions...</td>\n",
       "      <td>Palmer, E</td>\n",
       "    </tr>\n",
       "    <tr>\n",
       "      <th>2</th>\n",
       "      <td>0</td>\n",
       "      <td>The Dynamics of Human-Environment Interactions...</td>\n",
       "      <td>Brede, M</td>\n",
       "    </tr>\n",
       "    <tr>\n",
       "      <th>3</th>\n",
       "      <td>1</td>\n",
       "      <td>Wetland conservation and legal layering: Manag...</td>\n",
       "      <td>Gillespie, J</td>\n",
       "    </tr>\n",
       "    <tr>\n",
       "      <th>4</th>\n",
       "      <td>2</td>\n",
       "      <td>Participatory mapping of landscape values in a...</td>\n",
       "      <td>Garcia-Martin, M</td>\n",
       "    </tr>\n",
       "  </tbody>\n",
       "</table>\n",
       "</div>"
      ],
      "text/plain": [
       "  Codigo                                             Titulo           Autores\n",
       "0      0  The Dynamics of Human-Environment Interactions...          Roman, S\n",
       "1      0  The Dynamics of Human-Environment Interactions...         Palmer, E\n",
       "2      0  The Dynamics of Human-Environment Interactions...          Brede, M\n",
       "3      1  Wetland conservation and legal layering: Manag...      Gillespie, J\n",
       "4      2  Participatory mapping of landscape values in a...  Garcia-Martin, M"
      ]
     },
     "execution_count": 90,
     "metadata": {},
     "output_type": "execute_result"
    }
   ],
   "source": [
    "autores.head()"
   ]
  },
  {
   "cell_type": "code",
   "execution_count": 99,
   "metadata": {},
   "outputs": [
    {
     "data": {
      "text/html": [
       "<div>\n",
       "<style scoped>\n",
       "    .dataframe tbody tr th:only-of-type {\n",
       "        vertical-align: middle;\n",
       "    }\n",
       "\n",
       "    .dataframe tbody tr th {\n",
       "        vertical-align: top;\n",
       "    }\n",
       "\n",
       "    .dataframe thead th {\n",
       "        text-align: right;\n",
       "    }\n",
       "</style>\n",
       "<table border=\"1\" class=\"dataframe\">\n",
       "  <thead>\n",
       "    <tr style=\"text-align: right;\">\n",
       "      <th></th>\n",
       "      <th>Titulo</th>\n",
       "    </tr>\n",
       "  </thead>\n",
       "  <tbody>\n",
       "    <tr>\n",
       "      <th>0</th>\n",
       "      <td>The Dynamics of Human-Environment Interactions...</td>\n",
       "    </tr>\n",
       "    <tr>\n",
       "      <th>1</th>\n",
       "      <td>The Dynamics of Human-Environment Interactions...</td>\n",
       "    </tr>\n",
       "    <tr>\n",
       "      <th>2</th>\n",
       "      <td>The Dynamics of Human-Environment Interactions...</td>\n",
       "    </tr>\n",
       "    <tr>\n",
       "      <th>3</th>\n",
       "      <td>Wetland conservation and legal layering: Manag...</td>\n",
       "    </tr>\n",
       "    <tr>\n",
       "      <th>4</th>\n",
       "      <td>Participatory mapping of landscape values in a...</td>\n",
       "    </tr>\n",
       "  </tbody>\n",
       "</table>\n",
       "</div>"
      ],
      "text/plain": [
       "                                              Titulo\n",
       "0  The Dynamics of Human-Environment Interactions...\n",
       "1  The Dynamics of Human-Environment Interactions...\n",
       "2  The Dynamics of Human-Environment Interactions...\n",
       "3  Wetland conservation and legal layering: Manag...\n",
       "4  Participatory mapping of landscape values in a..."
      ]
     },
     "execution_count": 99,
     "metadata": {},
     "output_type": "execute_result"
    }
   ],
   "source": [
    "autores[['Titulo']].head()."
   ]
  }
 ],
 "metadata": {
  "kernelspec": {
   "display_name": "Python 3",
   "language": "python",
   "name": "python3"
  }
 },
 "nbformat": 4,
 "nbformat_minor": 2
}
