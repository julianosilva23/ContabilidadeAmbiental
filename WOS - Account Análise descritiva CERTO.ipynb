{
 "cells": [
  {
   "cell_type": "code",
   "execution_count": 3,
   "metadata": {},
   "outputs": [],
   "source": [
    "import pandas as pd\n",
    "import numpy as np\n",
    "import requests\n",
    "import plotly\n",
    "from plotly.graph_objs import *\n",
    "import networkx as nx\n",
    "import plotly.graph_objs as go\n",
    "import matplotlib.pyplot as plt\n",
    "from matplotlib.pyplot import figure\n",
    "%matplotlib inline\n",
    "# pd.options.display.max_columns = None"
   ]
  },
  {
   "cell_type": "markdown",
   "metadata": {},
   "source": [
    "### Import bibliometrics data in python"
   ]
  },
  {
   "cell_type": "code",
   "execution_count": 40,
   "metadata": {},
   "outputs": [],
   "source": [
    "c1 = pd.read_excel('todos.xlsx', sheet_name='Account')\n",
    "columns = pd.read_csv('identificadores.csv')"
   ]
  },
  {
   "cell_type": "code",
   "execution_count": 153,
   "metadata": {},
   "outputs": [],
   "source": [
    "#Pass dataframe and dict\n",
    "cd = cleaningDatabase(c1, columns)\n",
    "\n",
    "#replace strings for lowercase and remove spaces        \n",
    "cd.lowerSpaceValues(['Author Keywords', 'Document Title'])\n",
    "\n",
    "#Get all values in columns that are empty or null\n",
    "# cd.getNullValues()"
   ]
  },
  {
   "cell_type": "code",
   "execution_count": 115,
   "metadata": {},
   "outputs": [
    {
     "name": "stdout",
     "output_type": "stream",
     "text": [
      "Análise Descritiva\n",
      "-------------------\n",
      "JOURNAL OF CLEANER PRODUCTION                     114\n",
      "INTERNATIONAL JOURNAL OF LIFE CYCLE ASSESSMENT     53\n",
      "PLOS ONE                                           35\n",
      "SCIENCE OF THE TOTAL ENVIRONMENT                   34\n",
      "ECOLOGICAL MODELLING                               34\n",
      "Name: Publication Name, dtype: int64\n",
      "-------------------\n",
      "English    1984\n",
      "Russian       2\n",
      "Name: Language, dtype: int64\n",
      "-------------------\n",
      "Article                       1895\n",
      "Article; Proceedings Paper      88\n",
      "Article; Book Chapter            3\n",
      "Name: Document Type, dtype: int64\n"
     ]
    }
   ],
   "source": [
    "print('Análise Descritiva')\n",
    "for x in cd.df[['Publication Name','Language' ,'Document Type']].columns:\n",
    "    print('-------------------')\n",
    "    print(cd.df[x].value_counts().head())"
   ]
  },
  {
   "cell_type": "code",
   "execution_count": 142,
   "metadata": {},
   "outputs": [],
   "source": [
    "#Create lista wiht author in each line\n",
    "lev = ListEachValue(cd.df, 'Document Title', 'Authors', ';')"
   ]
  },
  {
   "cell_type": "code",
   "execution_count": 146,
   "metadata": {},
   "outputs": [
    {
     "data": {
      "text/html": [
       "<div>\n",
       "<style scoped>\n",
       "    .dataframe tbody tr th:only-of-type {\n",
       "        vertical-align: middle;\n",
       "    }\n",
       "\n",
       "    .dataframe tbody tr th {\n",
       "        vertical-align: top;\n",
       "    }\n",
       "\n",
       "    .dataframe thead th {\n",
       "        text-align: right;\n",
       "    }\n",
       "</style>\n",
       "<table border=\"1\" class=\"dataframe\">\n",
       "  <thead>\n",
       "    <tr style=\"text-align: right;\">\n",
       "      <th></th>\n",
       "      <th>Authors</th>\n",
       "      <th>title</th>\n",
       "    </tr>\n",
       "  </thead>\n",
       "  <tbody>\n",
       "    <tr>\n",
       "      <th>0</th>\n",
       "      <td>Gao, GY</td>\n",
       "      <td>determining spatio-temporal variations of ecol...</td>\n",
       "    </tr>\n",
       "    <tr>\n",
       "      <th>1</th>\n",
       "      <td>Shen, Q</td>\n",
       "      <td>determining spatio-temporal variations of ecol...</td>\n",
       "    </tr>\n",
       "    <tr>\n",
       "      <th>2</th>\n",
       "      <td>Zhang, Y</td>\n",
       "      <td>determining spatio-temporal variations of ecol...</td>\n",
       "    </tr>\n",
       "    <tr>\n",
       "      <th>3</th>\n",
       "      <td>Pan, NQ</td>\n",
       "      <td>determining spatio-temporal variations of ecol...</td>\n",
       "    </tr>\n",
       "    <tr>\n",
       "      <th>4</th>\n",
       "      <td>Ma, Y</td>\n",
       "      <td>determining spatio-temporal variations of ecol...</td>\n",
       "    </tr>\n",
       "  </tbody>\n",
       "</table>\n",
       "</div>"
      ],
      "text/plain": [
       "     Authors                                              title\n",
       "0    Gao, GY  determining spatio-temporal variations of ecol...\n",
       "1    Shen, Q  determining spatio-temporal variations of ecol...\n",
       "2   Zhang, Y  determining spatio-temporal variations of ecol...\n",
       "3    Pan, NQ  determining spatio-temporal variations of ecol...\n",
       "4      Ma, Y  determining spatio-temporal variations of ecol..."
      ]
     },
     "execution_count": 146,
     "metadata": {},
     "output_type": "execute_result"
    }
   ],
   "source": [
    "#Show daframe created\n",
    "lev.created.head()"
   ]
  },
  {
   "cell_type": "code",
   "execution_count": 148,
   "metadata": {},
   "outputs": [
    {
     "data": {
      "text/html": [
       "<div>\n",
       "<style scoped>\n",
       "    .dataframe tbody tr th:only-of-type {\n",
       "        vertical-align: middle;\n",
       "    }\n",
       "\n",
       "    .dataframe tbody tr th {\n",
       "        vertical-align: top;\n",
       "    }\n",
       "\n",
       "    .dataframe thead th {\n",
       "        text-align: right;\n",
       "    }\n",
       "</style>\n",
       "<table border=\"1\" class=\"dataframe\">\n",
       "  <thead>\n",
       "    <tr style=\"text-align: right;\">\n",
       "      <th></th>\n",
       "      <th>Authors</th>\n",
       "      <th>title</th>\n",
       "    </tr>\n",
       "  </thead>\n",
       "  <tbody>\n",
       "    <tr>\n",
       "      <th>2847</th>\n",
       "      <td>Laurie, CC</td>\n",
       "      <td>8</td>\n",
       "    </tr>\n",
       "    <tr>\n",
       "      <th>3305</th>\n",
       "      <td>Margni, M</td>\n",
       "      <td>8</td>\n",
       "    </tr>\n",
       "    <tr>\n",
       "      <th>3417</th>\n",
       "      <td>McKinlay, JB</td>\n",
       "      <td>7</td>\n",
       "    </tr>\n",
       "    <tr>\n",
       "      <th>1835</th>\n",
       "      <td>Gogarten, SM</td>\n",
       "      <td>7</td>\n",
       "    </tr>\n",
       "    <tr>\n",
       "      <th>4623</th>\n",
       "      <td>Sala, S</td>\n",
       "      <td>7</td>\n",
       "    </tr>\n",
       "  </tbody>\n",
       "</table>\n",
       "</div>"
      ],
      "text/plain": [
       "            Authors  title\n",
       "2847     Laurie, CC      8\n",
       "3305      Margni, M      8\n",
       "3417   McKinlay, JB      7\n",
       "1835   Gogarten, SM      7\n",
       "4623        Sala, S      7"
      ]
     },
     "execution_count": 148,
     "metadata": {},
     "output_type": "execute_result"
    }
   ],
   "source": [
    "grouped = lev.created.groupby(lev.created.columns[0]).count().reset_index()\n",
    "grouped.sort_values('title', ascending=False).head()"
   ]
  },
  {
   "cell_type": "code",
   "execution_count": 151,
   "metadata": {},
   "outputs": [],
   "source": [
    "class cleaningDatabase:\n",
    "    #Init executing function and replace columsn\n",
    "    def __init__(self, df, col):\n",
    "        self.col = col\n",
    "        self.df = df.rename(columns=renameColuns)\n",
    "\n",
    "    #function for replace key by value\n",
    "    def renameColuns(self,x):\n",
    "        col = self.col\n",
    "        #if the change has already been made \n",
    "        if(x in col['Value'].values):\n",
    "            return x.replace('\\r\\n', '')\n",
    "        if(x in col['Key'].values):\n",
    "            return col[col['Key'] == x]['Value'].iloc[0].replace('\\r\\n', '')\n",
    "        else:\n",
    "            return x\n",
    "    \n",
    "    #replace strings for lowercase and remove spaces        \n",
    "    def lowerSpaceValues(self, column):\n",
    "        if(type(column) == list):\n",
    "            for y in column:\n",
    "                self.df[y] = self.df[y].apply(lambda x: x.strip().lower() if type(x) != float else x)\n",
    "        else:\n",
    "            self.df[column] = self.df[column].apply(lambda x: x.strip().lower() if type(x) != float else x)\n",
    "    \n",
    "    #Get all values in columns that are empty or null\n",
    "    def getNullValues(self):\n",
    "        df = self.df\n",
    "        valoresNulos = [(((len(df) - df.count())  / len(df)) * 100), len(df) - df.count()]\n",
    "        dfnulos = pd.DataFrame([valoresNulos[0].apply(lambda x: (\"{0:.2f} %\".format(x))).values,valoresNulos[1].values], columns=df.columns, index=['Relativo','Absoluto']).transpose()\n",
    "        return(dfnulos)"
   ]
  },
  {
   "cell_type": "code",
   "execution_count": 152,
   "metadata": {},
   "outputs": [],
   "source": [
    "class ListEachValue:\n",
    "    # {variableX} (unique) and {variableY} (with separetor) in rows \n",
    "    def __init__(self,df,variableX:str, variableY:str, sep:str):\n",
    "        self.df = df\n",
    "        self.variableX = variableX\n",
    "        self.variableY = variableY\n",
    "        self.sep = sep\n",
    "        self.created = self.createNewDf(df)\n",
    "    \n",
    "    #Create new dataframe for list all cods of {variableX} (unique) and {variableY} (with separetor) in rows \n",
    "    def createNewDf(self,df):\n",
    "        i = 0\n",
    "        key = 0\n",
    "        edges = pd.DataFrame()\n",
    "        for index, row in df.iterrows():    \n",
    "            if(self.sep in row[self.variableY]):    \n",
    "                for x in row[self.variableY].split(self.sep):\n",
    "                    edges = edges.append(pd.DataFrame({self.variableY: x, 'title': 1, 'title': row[self.variableX]}, index=[0]), ignore_index=True, sort=False)            \n",
    "            else:\n",
    "                edges= edges.append(pd.DataFrame({self.variableY: row[self.variableY], 'title': 1, 'title': row[self.variableX]}, index=[0]), ignore_index=True, sort=False)                \n",
    "            i = i + 1\n",
    "        return edges"
   ]
  }
 ],
 "metadata": {
  "kernelspec": {
   "display_name": "Python3.5",
   "language": "python",
   "name": "python3.5"
  },
  "language_info": {
   "codemirror_mode": {
    "name": "ipython",
    "version": 3
   },
   "file_extension": ".py",
   "mimetype": "text/x-python",
   "name": "python",
   "nbconvert_exporter": "python",
   "pygments_lexer": "ipython3",
   "version": "3.6.5"
  }
 },
 "nbformat": 4,
 "nbformat_minor": 2
}
